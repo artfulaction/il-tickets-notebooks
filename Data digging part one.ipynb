{
 "cells": [
  {
   "cell_type": "code",
   "execution_count": 1,
   "metadata": {},
   "outputs": [
    {
     "data": {
      "text/html": [
       "<style>.container { width:100% !important; }</style>"
      ],
      "text/plain": [
       "<IPython.core.display.HTML object>"
      ]
     },
     "metadata": {},
     "output_type": "display_data"
    }
   ],
   "source": [
    "import os\n",
    "import pandas as pd\n",
    "import numpy as np\n",
    "import seaborn as sns\n",
    "import matplotlib.pyplot as plt\n",
    "import psutil\n",
    "from IPython.core.display import display, HTML\n",
    "pd.options.display.max_columns = None\n",
    "display(HTML(\"<style>.container { width:100% !important; }</style>\"))\n",
    "\n"
   ]
  },
  {
   "cell_type": "code",
   "execution_count": 2,
   "metadata": {},
   "outputs": [],
   "source": [
    "tickets = pd.read_csv('data/hacknight_ticket_sample_data_2015.csv', low_memory=False, parse_dates=['issue_date', 'ticket_queue_date'])"
   ]
  },
  {
   "cell_type": "markdown",
   "metadata": {},
   "source": [
    "\n",
    "\n",
    "Ok let's look for a disparity in terms of notice_level. \n",
    "\n",
    "\n",
    "\n",
    "Is there a certain fine_level that triggers a certain notice level? Is it the same for everyone? Maybe we could start with who is getting more boots on their cars. \n",
    "\n",
    "\n",
    "___\n",
    "\n",
    "But first, let's take a look at the data. Next couple of lines look at the ticket sample itself from 2015 and then load in the geocode data and addresses."
   ]
  },
  {
   "cell_type": "code",
   "execution_count": 3,
   "metadata": {},
   "outputs": [
    {
     "name": "stdout",
     "output_type": "stream",
     "text": [
      "<class 'pandas.core.frame.DataFrame'>\n",
      "RangeIndex: 50000 entries, 0 to 49999\n",
      "Data columns (total 23 columns):\n",
      "ticket_number            50000 non-null int64\n",
      "issue_date               50000 non-null datetime64[ns]\n",
      "violation_location       50000 non-null object\n",
      "license_plate_number     50000 non-null object\n",
      "license_plate_state      49998 non-null object\n",
      "license_plate_type       49383 non-null object\n",
      "zipcode                  41550 non-null object\n",
      "violation_code           50000 non-null object\n",
      "violation_description    50000 non-null object\n",
      "unit                     50000 non-null int64\n",
      "unit_description         50000 non-null object\n",
      "vehicle_make             50000 non-null object\n",
      "fine_level1_amount       50000 non-null int64\n",
      "fine_level2_amount       50000 non-null int64\n",
      "current_amount_due       50000 non-null float64\n",
      "total_payments           50000 non-null float64\n",
      "ticket_queue             50000 non-null object\n",
      "ticket_queue_date        50000 non-null datetime64[ns]\n",
      "notice_level             36707 non-null object\n",
      "hearing_disposition      5337 non-null object\n",
      "notice_number            50000 non-null int64\n",
      "officer                  50000 non-null object\n",
      "address                  50000 non-null object\n",
      "dtypes: datetime64[ns](2), float64(2), int64(5), object(14)\n",
      "memory usage: 8.8+ MB\n"
     ]
    }
   ],
   "source": [
    "tickets.info()\n",
    "\n"
   ]
  },
  {
   "cell_type": "code",
   "execution_count": 4,
   "metadata": {},
   "outputs": [],
   "source": [
    "tickets_geo = pd.read_csv('data/hacknight_sample_data_geocode.csv', low_memory=False)\n"
   ]
  },
  {
   "cell_type": "code",
   "execution_count": 5,
   "metadata": {
    "scrolled": true
   },
   "outputs": [
    {
     "name": "stdout",
     "output_type": "stream",
     "text": [
      "<class 'pandas.core.frame.DataFrame'>\n",
      "RangeIndex: 20608 entries, 0 to 20607\n",
      "Data columns (total 3 columns):\n",
      "address    20608 non-null object\n",
      "lat        20608 non-null float64\n",
      "lng        20608 non-null float64\n",
      "dtypes: float64(2), object(1)\n",
      "memory usage: 483.1+ KB\n"
     ]
    }
   ],
   "source": [
    "tickets_geo.info()"
   ]
  },
  {
   "cell_type": "markdown",
   "metadata": {},
   "source": []
  },
  {
   "cell_type": "markdown",
   "metadata": {},
   "source": [
    "Ok, so I want to know what it takes to get a boot put on your car.\n",
    "\n",
    "So I want to select all the boots in the dataset. This would be notice_level = (“SEIZ” indicates the vehicle is on the city’s boot list)\n",
    "\n",
    "I also want to know what kind of offense triggers a boot. This is violation_description. \n",
    "\n",
    "And I also want to know how much someone typically owes when they get a boot. The total that they owe at the time of the violation is current_amount_due: total amount due for that citation and any related late penalties as of May 14, 2018, when data was last updated.\n",
    "\n",
    "Ok, and we're off!\n",
    "\n",
    "First, filter the tickets dataset to just be the ones with the boots on the car."
   ]
  },
  {
   "cell_type": "code",
   "execution_count": 6,
   "metadata": {},
   "outputs": [
    {
     "ename": "ValueError",
     "evalue": "The truth value of a Series is ambiguous. Use a.empty, a.bool(), a.item(), a.any() or a.all().",
     "output_type": "error",
     "traceback": [
      "\u001b[0;31m---------------------------------------------------------------------------\u001b[0m",
      "\u001b[0;31mValueError\u001b[0m                                Traceback (most recent call last)",
      "\u001b[0;32m<ipython-input-6-c343dda51795>\u001b[0m in \u001b[0;36m<module>\u001b[0;34m()\u001b[0m\n\u001b[0;32m----> 1\u001b[0;31m \u001b[0mtickets\u001b[0m\u001b[0;34m[\u001b[0m\u001b[0mtickets\u001b[0m\u001b[0;34m.\u001b[0m\u001b[0mnotice_level\u001b[0m \u001b[0;34m==\u001b[0m \u001b[0;34m\"SEIZ\"\u001b[0m \u001b[0;32mor\u001b[0m \u001b[0;34m\"\"\u001b[0m\u001b[0;34m]\u001b[0m\u001b[0;34m\u001b[0m\u001b[0m\n\u001b[0m",
      "\u001b[0;32m~/GitHub/il-tickets/venv/lib/python3.7/site-packages/pandas/core/generic.py\u001b[0m in \u001b[0;36m__nonzero__\u001b[0;34m(self)\u001b[0m\n\u001b[1;32m   1574\u001b[0m         raise ValueError(\"The truth value of a {0} is ambiguous. \"\n\u001b[1;32m   1575\u001b[0m                          \u001b[0;34m\"Use a.empty, a.bool(), a.item(), a.any() or a.all().\"\u001b[0m\u001b[0;34m\u001b[0m\u001b[0m\n\u001b[0;32m-> 1576\u001b[0;31m                          .format(self.__class__.__name__))\n\u001b[0m\u001b[1;32m   1577\u001b[0m \u001b[0;34m\u001b[0m\u001b[0m\n\u001b[1;32m   1578\u001b[0m     \u001b[0m__bool__\u001b[0m \u001b[0;34m=\u001b[0m \u001b[0m__nonzero__\u001b[0m\u001b[0;34m\u001b[0m\u001b[0m\n",
      "\u001b[0;31mValueError\u001b[0m: The truth value of a Series is ambiguous. Use a.empty, a.bool(), a.item(), a.any() or a.all()."
     ]
    }
   ],
   "source": [
    "tickets[tickets.notice_level == \"SEIZ\" or \"\"]"
   ]
  },
  {
   "cell_type": "code",
   "execution_count": null,
   "metadata": {},
   "outputs": [],
   "source": [
    "tickets_grouped = tickets.groupby([\"violation_description\", \"current_amount_due\"])\n"
   ]
  },
  {
   "cell_type": "code",
   "execution_count": null,
   "metadata": {},
   "outputs": [],
   "source": [
    "tickets[\"violation_description\"][\"current_amount_due\" > \"0\"]"
   ]
  },
  {
   "cell_type": "markdown",
   "metadata": {},
   "source": [
    "I'm also wondering if, as a stylist told me, they tow cars without booting them first more often on the southside. Is there any truth to this claim? \n",
    "\n",
    "Does the city ALWAYS follow the procedure (as outlined in the PPIL article: https://features.propublica.org/driven-into-debt/chicago-ticket-debt-bankruptcy/) of more than 1 unpaid ticket, then a boot, then 24 hours to remove the boot and pay fines or get towed?\n",
    "\n",
    "In other words, what does it take to get a car towed by the city, and are there any discrepancies in that betwee the north and the south sides of the city?\n",
    "\n",
    "Here's the Chicago city code about when a vehicle can be towed: https://www.cityofchicago.org/content/dam/city/depts/streets/supp_info/ChicagoMunicipalCode992030.pdf\n",
    "\n",
    "https://www.cityofchicago.org/city/en/depts/streets/supp_info/common_towing_questions.html\n",
    "\n",
    "Seems pretty broad. Especially the esoteric city codes (in violation of Section....c)\n",
    "\"When an unattended vehicle is parked in violation of Section 9-40-060, 9-64-020; 9-64-050, 9-64-070, 9-64-100, 9-64-110, 9-64-120, 9-64-130(b), 9-64-140(b), 9-64-150(b), 9-64-160(b), 9-64-170, 9-64-210, 9-80-080(a), or 9-80-130;\"\n",
    "\n",
    "\n",
    "Maybe narrow it down by type of violation that matches this?\n",
    "\n",
    "\n",
    "\n"
   ]
  },
  {
   "cell_type": "markdown",
   "metadata": {},
   "source": [
    "Since I don't have the towing data yet, just looking at SEIZ data.\n",
    "\n",
    "Look at if the SEIZ always follows the city protocol: https://www.cityofchicago.org/city/en/depts/fin/supp_info/revenue/boot_tow_information/booted_vehicle_information.html\n",
    "\n",
    "In other words:\n",
    "-is it always unpaid 2 tickets in final determination status for over a year that lead to a boot?\n",
    "\n",
    "-is it always 3 unpaid tickets in final determination status that lead to a boot?\n",
    "\n",
    "--are there a few officers who give boots outside of city protocol?"
   ]
  }
 ],
 "metadata": {
  "kernelspec": {
   "display_name": "Python 3",
   "language": "python",
   "name": "python3"
  },
  "language_info": {
   "codemirror_mode": {
    "name": "ipython",
    "version": 3
   },
   "file_extension": ".py",
   "mimetype": "text/x-python",
   "name": "python",
   "nbconvert_exporter": "python",
   "pygments_lexer": "ipython3",
   "version": "3.7.0"
  }
 },
 "nbformat": 4,
 "nbformat_minor": 2
}
