{
 "cells": [
  {
   "cell_type": "code",
   "execution_count": 2,
   "metadata": {},
   "outputs": [
    {
     "data": {
      "text/html": [
       "<style>.container { width:100% !important; }</style>"
      ],
      "text/plain": [
       "<IPython.core.display.HTML object>"
      ]
     },
     "metadata": {},
     "output_type": "display_data"
    }
   ],
   "source": [
    "import os\n",
    "import pandas as pd\n",
    "import numpy as np\n",
    "import seaborn as sns\n",
    "import matplotlib.pyplot as plt\n",
    "import psutil\n",
    "from IPython.core.display import display, HTML\n",
    "pd.options.display.max_columns = None\n",
    "display(HTML(\"<style>.container { width:100% !important; }</style>\"))"
   ]
  },
  {
   "cell_type": "markdown",
   "metadata": {},
   "source": [
    "# Getting started\n",
    "\n",
    "Below you can see a basic data loader from the sample data file. Copy this notebook and start analyzing! Not sure where to start with Jupyter and Pandas? Ben Welsh's [First Python Notebook](http://www.firstpythonnotebook.org/) is a great introduction."
   ]
  },
  {
   "cell_type": "code",
   "execution_count": 3,
   "metadata": {},
   "outputs": [],
   "source": [
    "df = pd.read_csv('data/hacknight_ticket_sample_data_2015.csv', low_memory=False, parse_dates=['issue_date', 'ticket_queue_date'])"
   ]
  },
  {
   "cell_type": "code",
   "execution_count": 4,
   "metadata": {},
   "outputs": [
    {
     "data": {
      "text/plain": [
       "dtype('int64')"
      ]
     },
     "execution_count": 4,
     "metadata": {},
     "output_type": "execute_result"
    }
   ],
   "source": [
    "df.ticket_number.dtype"
   ]
  },
  {
   "cell_type": "code",
   "execution_count": 5,
   "metadata": {},
   "outputs": [
    {
     "data": {
      "text/html": [
       "<div>\n",
       "<style scoped>\n",
       "    .dataframe tbody tr th:only-of-type {\n",
       "        vertical-align: middle;\n",
       "    }\n",
       "\n",
       "    .dataframe tbody tr th {\n",
       "        vertical-align: top;\n",
       "    }\n",
       "\n",
       "    .dataframe thead th {\n",
       "        text-align: right;\n",
       "    }\n",
       "</style>\n",
       "<table border=\"1\" class=\"dataframe\">\n",
       "  <thead>\n",
       "    <tr style=\"text-align: right;\">\n",
       "      <th></th>\n",
       "      <th>ticket_number</th>\n",
       "      <th>issue_date</th>\n",
       "      <th>violation_location</th>\n",
       "      <th>license_plate_number</th>\n",
       "      <th>license_plate_state</th>\n",
       "      <th>license_plate_type</th>\n",
       "      <th>zipcode</th>\n",
       "      <th>violation_code</th>\n",
       "      <th>violation_description</th>\n",
       "      <th>unit</th>\n",
       "      <th>unit_description</th>\n",
       "      <th>vehicle_make</th>\n",
       "      <th>fine_level1_amount</th>\n",
       "      <th>fine_level2_amount</th>\n",
       "      <th>current_amount_due</th>\n",
       "      <th>total_payments</th>\n",
       "      <th>ticket_queue</th>\n",
       "      <th>ticket_queue_date</th>\n",
       "      <th>notice_level</th>\n",
       "      <th>hearing_disposition</th>\n",
       "      <th>notice_number</th>\n",
       "      <th>officer</th>\n",
       "      <th>address</th>\n",
       "    </tr>\n",
       "  </thead>\n",
       "  <tbody>\n",
       "    <tr>\n",
       "      <th>0</th>\n",
       "      <td>9188814621</td>\n",
       "      <td>2015-05-07 13:52:00</td>\n",
       "      <td>2134 S ARCHER AV</td>\n",
       "      <td>7c189a16ef79db9413c1f46b7e5d1712e5c0c1575be352...</td>\n",
       "      <td>MI</td>\n",
       "      <td>PAS</td>\n",
       "      <td>48103</td>\n",
       "      <td>0964190A</td>\n",
       "      <td>EXP. METER NON-CENTRAL BUSINESS DISTRICT</td>\n",
       "      <td>498</td>\n",
       "      <td>DOF</td>\n",
       "      <td>BUIC</td>\n",
       "      <td>50</td>\n",
       "      <td>100</td>\n",
       "      <td>0.0</td>\n",
       "      <td>50.0</td>\n",
       "      <td>Paid</td>\n",
       "      <td>2015-05-13</td>\n",
       "      <td>NaN</td>\n",
       "      <td>NaN</td>\n",
       "      <td>0</td>\n",
       "      <td>798</td>\n",
       "      <td>2100 s archer av, chicago, il</td>\n",
       "    </tr>\n",
       "    <tr>\n",
       "      <th>1</th>\n",
       "      <td>65543631</td>\n",
       "      <td>2015-01-10 17:09:00</td>\n",
       "      <td>423 N LARAMIE</td>\n",
       "      <td>13d93046fb2c3bc2d79baa8647d620d0c5a65fdc223cb9...</td>\n",
       "      <td>IL</td>\n",
       "      <td>PAS</td>\n",
       "      <td>606394357</td>\n",
       "      <td>0976160F</td>\n",
       "      <td>EXPIRED PLATES OR TEMPORARY REGISTRATION</td>\n",
       "      <td>15</td>\n",
       "      <td>CPD</td>\n",
       "      <td>CHRY</td>\n",
       "      <td>60</td>\n",
       "      <td>120</td>\n",
       "      <td>146.4</td>\n",
       "      <td>0.0</td>\n",
       "      <td>Notice</td>\n",
       "      <td>2015-01-28</td>\n",
       "      <td>SEIZ</td>\n",
       "      <td>NaN</td>\n",
       "      <td>5109291290</td>\n",
       "      <td>16391</td>\n",
       "      <td>400 n laramie, chicago, il</td>\n",
       "    </tr>\n",
       "    <tr>\n",
       "      <th>2</th>\n",
       "      <td>9188975267</td>\n",
       "      <td>2015-06-11 18:49:00</td>\n",
       "      <td>1338 W CORNELIA</td>\n",
       "      <td>265ee87ad9d24c7732f65383e6b9af1f344348bf639ce2...</td>\n",
       "      <td>IL</td>\n",
       "      <td>PAS</td>\n",
       "      <td>606134985</td>\n",
       "      <td>0976160F</td>\n",
       "      <td>EXPIRED PLATES OR TEMPORARY REGISTRATION</td>\n",
       "      <td>502</td>\n",
       "      <td>DOF</td>\n",
       "      <td>BMW</td>\n",
       "      <td>60</td>\n",
       "      <td>120</td>\n",
       "      <td>0.0</td>\n",
       "      <td>60.0</td>\n",
       "      <td>Paid</td>\n",
       "      <td>2015-06-23</td>\n",
       "      <td>VIOL</td>\n",
       "      <td>NaN</td>\n",
       "      <td>5190301770</td>\n",
       "      <td>1444</td>\n",
       "      <td>1300 w cornelia, chicago, il</td>\n",
       "    </tr>\n",
       "    <tr>\n",
       "      <th>3</th>\n",
       "      <td>64465302</td>\n",
       "      <td>2015-01-14 08:09:00</td>\n",
       "      <td>229 W CERMAK RD</td>\n",
       "      <td>2800f6eaba1dc6fde0b0785df17c808dba871d1570cc4c...</td>\n",
       "      <td>IL</td>\n",
       "      <td>PAS</td>\n",
       "      <td>605442187</td>\n",
       "      <td>0964130A</td>\n",
       "      <td>PARK ALLEY</td>\n",
       "      <td>495</td>\n",
       "      <td>Miscellaneous</td>\n",
       "      <td>HOND</td>\n",
       "      <td>150</td>\n",
       "      <td>300</td>\n",
       "      <td>0.0</td>\n",
       "      <td>150.0</td>\n",
       "      <td>Paid</td>\n",
       "      <td>2015-04-28</td>\n",
       "      <td>DETR</td>\n",
       "      <td>NaN</td>\n",
       "      <td>5191229940</td>\n",
       "      <td>313</td>\n",
       "      <td>200 w cermak rd, chicago, il</td>\n",
       "    </tr>\n",
       "    <tr>\n",
       "      <th>4</th>\n",
       "      <td>9189537354</td>\n",
       "      <td>2015-10-28 16:26:00</td>\n",
       "      <td>2410 N MONTICELLO AV</td>\n",
       "      <td>f0858c838c8cabda4e8fd3e0425a6c330a76e006f9de01...</td>\n",
       "      <td>IL</td>\n",
       "      <td>PAS</td>\n",
       "      <td>60625</td>\n",
       "      <td>0964190A</td>\n",
       "      <td>EXP. METER NON-CENTRAL BUSINESS DISTRICT</td>\n",
       "      <td>729</td>\n",
       "      <td>Miscellaneous</td>\n",
       "      <td>TOYT</td>\n",
       "      <td>50</td>\n",
       "      <td>100</td>\n",
       "      <td>0.0</td>\n",
       "      <td>100.0</td>\n",
       "      <td>Paid</td>\n",
       "      <td>2016-01-27</td>\n",
       "      <td>SEIZ</td>\n",
       "      <td>NaN</td>\n",
       "      <td>5168404170</td>\n",
       "      <td>1407</td>\n",
       "      <td>2400 n monticello av, chicago, il</td>\n",
       "    </tr>\n",
       "  </tbody>\n",
       "</table>\n",
       "</div>"
      ],
      "text/plain": [
       "   ticket_number          issue_date    violation_location  \\\n",
       "0     9188814621 2015-05-07 13:52:00      2134 S ARCHER AV   \n",
       "1       65543631 2015-01-10 17:09:00         423 N LARAMIE   \n",
       "2     9188975267 2015-06-11 18:49:00       1338 W CORNELIA   \n",
       "3       64465302 2015-01-14 08:09:00       229 W CERMAK RD   \n",
       "4     9189537354 2015-10-28 16:26:00  2410 N MONTICELLO AV   \n",
       "\n",
       "                                license_plate_number license_plate_state  \\\n",
       "0  7c189a16ef79db9413c1f46b7e5d1712e5c0c1575be352...                  MI   \n",
       "1  13d93046fb2c3bc2d79baa8647d620d0c5a65fdc223cb9...                  IL   \n",
       "2  265ee87ad9d24c7732f65383e6b9af1f344348bf639ce2...                  IL   \n",
       "3  2800f6eaba1dc6fde0b0785df17c808dba871d1570cc4c...                  IL   \n",
       "4  f0858c838c8cabda4e8fd3e0425a6c330a76e006f9de01...                  IL   \n",
       "\n",
       "  license_plate_type    zipcode violation_code  \\\n",
       "0                PAS      48103       0964190A   \n",
       "1                PAS  606394357       0976160F   \n",
       "2                PAS  606134985       0976160F   \n",
       "3                PAS  605442187       0964130A   \n",
       "4                PAS      60625       0964190A   \n",
       "\n",
       "                      violation_description  unit unit_description  \\\n",
       "0  EXP. METER NON-CENTRAL BUSINESS DISTRICT   498              DOF   \n",
       "1  EXPIRED PLATES OR TEMPORARY REGISTRATION    15              CPD   \n",
       "2  EXPIRED PLATES OR TEMPORARY REGISTRATION   502              DOF   \n",
       "3                                PARK ALLEY   495    Miscellaneous   \n",
       "4  EXP. METER NON-CENTRAL BUSINESS DISTRICT   729    Miscellaneous   \n",
       "\n",
       "  vehicle_make  fine_level1_amount  fine_level2_amount  current_amount_due  \\\n",
       "0         BUIC                  50                 100                 0.0   \n",
       "1         CHRY                  60                 120               146.4   \n",
       "2          BMW                  60                 120                 0.0   \n",
       "3         HOND                 150                 300                 0.0   \n",
       "4         TOYT                  50                 100                 0.0   \n",
       "\n",
       "   total_payments ticket_queue ticket_queue_date notice_level  \\\n",
       "0            50.0         Paid        2015-05-13          NaN   \n",
       "1             0.0       Notice        2015-01-28         SEIZ   \n",
       "2            60.0         Paid        2015-06-23         VIOL   \n",
       "3           150.0         Paid        2015-04-28         DETR   \n",
       "4           100.0         Paid        2016-01-27         SEIZ   \n",
       "\n",
       "  hearing_disposition  notice_number officer  \\\n",
       "0                 NaN              0     798   \n",
       "1                 NaN     5109291290   16391   \n",
       "2                 NaN     5190301770    1444   \n",
       "3                 NaN     5191229940     313   \n",
       "4                 NaN     5168404170    1407   \n",
       "\n",
       "                             address  \n",
       "0      2100 s archer av, chicago, il  \n",
       "1         400 n laramie, chicago, il  \n",
       "2       1300 w cornelia, chicago, il  \n",
       "3       200 w cermak rd, chicago, il  \n",
       "4  2400 n monticello av, chicago, il  "
      ]
     },
     "execution_count": 5,
     "metadata": {},
     "output_type": "execute_result"
    }
   ],
   "source": [
    "df.head()"
   ]
  },
  {
   "cell_type": "code",
   "execution_count": 6,
   "metadata": {},
   "outputs": [
    {
     "data": {
      "text/plain": [
       "array([nan, 'SEIZ', 'VIOL', 'DETR', 'FINL', 'DLS'], dtype=object)"
      ]
     },
     "execution_count": 6,
     "metadata": {},
     "output_type": "execute_result"
    }
   ],
   "source": [
    "df['notice_level'].unique()"
   ]
  },
  {
   "cell_type": "code",
   "execution_count": 7,
   "metadata": {},
   "outputs": [
    {
     "data": {
      "text/plain": [
       "CHEV    6612\n",
       "FORD    5389\n",
       "TOYT    4891\n",
       "HOND    3894\n",
       "NISS    3458\n",
       "DODG    2422\n",
       "JEEP    1927\n",
       "PONT    1653\n",
       "HYUN    1644\n",
       "VOLK    1457\n",
       "CHRY    1418\n",
       "BUIC    1313\n",
       "BMW     1113\n",
       "LEXU     950\n",
       "GMC      940\n",
       "MERZ     936\n",
       "MAZD     831\n",
       "KIA      789\n",
       "ACUR     772\n",
       "CADI     707\n",
       "AUDI     678\n",
       "MERC     630\n",
       "INFI     623\n",
       "SUBA     573\n",
       "MITS     554\n",
       "SATR     483\n",
       "LINC     464\n",
       "OLDS     447\n",
       "VOLV     433\n",
       "SCIO     211\n",
       "        ... \n",
       "CHEC       4\n",
       "PIAG       4\n",
       "TRAL       4\n",
       "DAEW       4\n",
       "APRL       3\n",
       "DUCA       3\n",
       "LCE        3\n",
       "POLS       3\n",
       "MACK       3\n",
       "BENE       2\n",
       "MERK       2\n",
       "TAOT       2\n",
       "PTRB       2\n",
       "WSTR       2\n",
       "LNCI       2\n",
       "FTWD       1\n",
       "MG         1\n",
       "MOGU       1\n",
       "SYM        1\n",
       "ZHEJ       1\n",
       "HUDS       1\n",
       "GELY       1\n",
       "VPGP       1\n",
       "DATS       1\n",
       "CAP        1\n",
       "BUEL       1\n",
       "SCHW       1\n",
       "ROL        1\n",
       "MCIN       1\n",
       "JONW       1\n",
       "Name: vehicle_make, Length: 99, dtype: int64"
      ]
     },
     "execution_count": 7,
     "metadata": {},
     "output_type": "execute_result"
    }
   ],
   "source": [
    "df['vehicle_make'].value_counts()"
   ]
  },
  {
   "cell_type": "code",
   "execution_count": 8,
   "metadata": {},
   "outputs": [
    {
     "data": {
      "text/plain": [
       "Index(['ticket_number', 'issue_date', 'violation_location',\n",
       "       'license_plate_number', 'license_plate_state', 'license_plate_type',\n",
       "       'zipcode', 'violation_code', 'violation_description', 'unit',\n",
       "       'unit_description', 'vehicle_make', 'fine_level1_amount',\n",
       "       'fine_level2_amount', 'current_amount_due', 'total_payments',\n",
       "       'ticket_queue', 'ticket_queue_date', 'notice_level',\n",
       "       'hearing_disposition', 'notice_number', 'officer', 'address'],\n",
       "      dtype='object')"
      ]
     },
     "execution_count": 8,
     "metadata": {},
     "output_type": "execute_result"
    }
   ],
   "source": [
    "df.columns"
   ]
  },
  {
   "cell_type": "code",
   "execution_count": 19,
   "metadata": {},
   "outputs": [
    {
     "name": "stderr",
     "output_type": "stream",
     "text": [
      "/Users/PrincessO/GitHub/il-tickets/venv/lib/python3.7/site-packages/scipy/stats/stats.py:1713: FutureWarning: Using a non-tuple sequence for multidimensional indexing is deprecated; use `arr[tuple(seq)]` instead of `arr[seq]`. In the future this will be interpreted as an array index, `arr[np.array(seq)]`, which will result either in an error or a different result.\n",
      "  return np.add.reduce(sorted[indexer] * weights, axis=axis) / sumval\n"
     ]
    },
    {
     "data": {
      "text/plain": [
       "<matplotlib.axes._subplots.AxesSubplot at 0x11ee89da0>"
      ]
     },
     "execution_count": 19,
     "metadata": {},
     "output_type": "execute_result"
    },
    {
     "data": {
      "image/png": "[encoded data removed]",
      "text/plain": [
       "<Figure size 432x288 with 1 Axes>"
      ]
     },
     "metadata": {},
     "output_type": "display_data"
    }
   ],
   "source": [
    "sns.distplot(df['current_amount_due'])"
   ]
  },
  {
   "cell_type": "code",
   "execution_count": 10,
   "metadata": {},
   "outputs": [
    {
     "name": "stderr",
     "output_type": "stream",
     "text": [
      "/Users/PrincessO/GitHub/il-tickets/venv/lib/python3.7/site-packages/scipy/stats/stats.py:1713: FutureWarning: Using a non-tuple sequence for multidimensional indexing is deprecated; use `arr[tuple(seq)]` instead of `arr[seq]`. In the future this will be interpreted as an array index, `arr[np.array(seq)]`, which will result either in an error or a different result.\n",
      "  return np.add.reduce(sorted[indexer] * weights, axis=axis) / sumval\n"
     ]
    },
    {
     "data": {
      "text/plain": [
       "<matplotlib.axes._subplots.AxesSubplot at 0x121800dd8>"
      ]
     },
     "execution_count": 10,
     "metadata": {},
     "output_type": "execute_result"
    },
    {
     "data": {
      "image/png": "[encoded data removed]",
      "text/plain": [
       "<Figure size 432x288 with 1 Axes>"
      ]
     },
     "metadata": {},
     "output_type": "display_data"
    }
   ],
   "source": [
    "sns.distplot(df['total_payments'])"
   ]
  },
  {
   "cell_type": "code",
   "execution_count": 11,
   "metadata": {},
   "outputs": [
    {
     "data": {
      "text/plain": [
       "728      429\n",
       "716      404\n",
       "638      331\n",
       "765      326\n",
       "723      325\n",
       "737      314\n",
       "1385     296\n",
       "790      282\n",
       "690      281\n",
       "800      279\n",
       "1444     274\n",
       "287      271\n",
       "714      262\n",
       "772      261\n",
       "761      260\n",
       "735      256\n",
       "641      256\n",
       "1374     256\n",
       "746      253\n",
       "102      250\n",
       "776      231\n",
       "1529     231\n",
       "1491     228\n",
       "789      223\n",
       "1462     220\n",
       "187      219\n",
       "657      219\n",
       "1457     217\n",
       "754      214\n",
       "797      214\n",
       "        ... \n",
       "4968       1\n",
       "6130       1\n",
       "17092      1\n",
       "15176      1\n",
       "16782      1\n",
       "17972      1\n",
       "18718      1\n",
       "13827      1\n",
       "7794       1\n",
       "5053       1\n",
       "2862       1\n",
       "18626      1\n",
       "18711      1\n",
       "12074      1\n",
       "3615       1\n",
       "14106      1\n",
       "330        1\n",
       "1924       1\n",
       "8577       1\n",
       "7700       1\n",
       "6900       1\n",
       "11803      1\n",
       "14530      1\n",
       "13571      1\n",
       "15379      1\n",
       "8175       1\n",
       "12783      1\n",
       "476        1\n",
       "14022      1\n",
       "04443      1\n",
       "Name: officer, Length: 5779, dtype: int64"
      ]
     },
     "execution_count": 11,
     "metadata": {},
     "output_type": "execute_result"
    }
   ],
   "source": [
    "officer = df['officer'].value_counts()\n",
    "officer"
   ]
  },
  {
   "cell_type": "code",
   "execution_count": 12,
   "metadata": {},
   "outputs": [
    {
     "data": {
      "text/plain": [
       "array([nan, 'SEIZ', 'VIOL', 'DETR', 'FINL', 'DLS'], dtype=object)"
      ]
     },
     "execution_count": 12,
     "metadata": {},
     "output_type": "execute_result"
    }
   ],
   "source": [
    "notice_lvl = df['notice_level'].unique()\n",
    "notice_lvl"
   ]
  },
  {
   "cell_type": "code",
   "execution_count": 13,
   "metadata": {},
   "outputs": [
    {
     "data": {
      "text/plain": [
       "array(['0964190A', '0976160F', '0964130A', '0964100A', '0964125B',\n",
       "       '0976160A', '0964090E', '0964040B', '0964150B', '0964190B',\n",
       "       '0980130B', '0964080B', '0964050J', '0964020A', '0964100D',\n",
       "       '0964170A', '0964110E', '0964100G', '0964100C', '0964110D',\n",
       "       '0964080A', '0912060', '0976160D', '0964041', '0980110B',\n",
       "       '0976140B', '0976150B', '0980110A', '0976210A', '0964140B',\n",
       "       '0976050B', '0964120A', '0980080A', '0964070', '0964060',\n",
       "       '0964020B', '0976050D', '0964110A', '0964100B', '0976050C',\n",
       "       '0964170D', '0940060', '0976210B', '0964110G', '0964160B',\n",
       "       '0964030B', '0976120', '0964110C', '0964130', '0976050E',\n",
       "       '0976180B', '0980120B', '0976180A', '0964125D', '0940080',\n",
       "       '0964125C', '0964100F', '0964120B', '0940220', '0964041B',\n",
       "       '0964170B', '0964130B', '0964210', '0964091', '0964110F',\n",
       "       '0964110B', '0976140A', '0964200B', '0976040A', '0940170',\n",
       "       '0980120A', '0964110H', '0976160B', '0976090C', '0976160C',\n",
       "       '0976010B', '0976080', '0976110A', '0964170C', '0980080C',\n",
       "       '0964020C', '0976090B', '0964100E', '0976100A', '0980095',\n",
       "       '0976070A', '0964160C', '0976060B', '0976050A'], dtype=object)"
      ]
     },
     "execution_count": 13,
     "metadata": {},
     "output_type": "execute_result"
    }
   ],
   "source": [
    "viol_code = df['violation_code'].unique()\n",
    "viol_code"
   ]
  },
  {
   "cell_type": "code",
   "execution_count": 14,
   "metadata": {},
   "outputs": [
    {
     "data": {
      "text/plain": [
       "array(['EXP. METER NON-CENTRAL BUSINESS DISTRICT',\n",
       "       'EXPIRED PLATES OR TEMPORARY REGISTRATION', 'PARK ALLEY',\n",
       "       \"WITHIN 15' OF FIRE HYDRANT\",\n",
       "       'NO CITY STICKER VEHICLE UNDER/EQUAL TO 16,000 LBS.',\n",
       "       'REAR AND FRONT PLATE REQUIRED', 'RESIDENTIAL PERMIT PARKING',\n",
       "       'STREET CLEANING', 'PARKING/STANDING PROHIBITED ANYTIME',\n",
       "       'EXPIRED METER CENTRAL BUSINESS DISTRICT',\n",
       "       'PARK IN CITY LOT WHEN CLOSED',\n",
       "       'NO STANDING/PARKING TIME RESTRICTED', 'DISABLED PARKING ZONE',\n",
       "       \"WRONG DIRECTION OR 12'' FROM CURB\", 'DISABLED CURB CUT',\n",
       "       'TRUCK,RV,BUS, OR TAXI RESIDENTIAL STREET',\n",
       "       'PARK OR STAND ON PARKWAY', 'STOP SIGN OR TRAFFIC SIGNAL',\n",
       "       'BLOCK ACCESS/ALLEY/DRIVEWAY/FIRELANE',\n",
       "       'PARK OR STAND ON SIDEWALK', 'RUSH HOUR PARKING',\n",
       "       'STAND, PARK, OR OTHER USE OF BUS LANE', 'NONCOMPLIANT PLATE(S)',\n",
       "       'SPECIAL EVENTS RESTRICTION', 'HAZARDOUS DILAPIDATED VEHICLE',\n",
       "       'EXCESS FUMES/SMOKE DURING OPERATION',\n",
       "       'BURGLAR ALARM SOUNDING OVER 4 MINUTES',\n",
       "       'ABANDONED VEH. FOR 7 DAYS OR INOPERABLE',\n",
       "       'LAMPS BROKEN OR INOPERABLE',\n",
       "       'PARK OR STAND IN BUS/TAXI/CARRIAGE STAND',\n",
       "       \"TWO HEAD LAMPS REQUIRED VISIBLE 1000'\",\n",
       "       'PARK OR STAND ON CITY PROPERTY',\n",
       "       'PARK VEHICLE SOLE PURPOSE OF DISPLAYING FOR SALE',\n",
       "       \"SNOW ROUTE: 2'' OF SNOW OR MORE\", '3-7 AM SNOW ROUTE',\n",
       "       'OBSTRUCT ROADWAY', \"REAR PLATE LIT AND LEGIBLE FOR 50'\",\n",
       "       'DOUBLE PARKING OR STANDING', 'PARK IN FIRE LANE',\n",
       "       \"RED REAR LAMP REQUIRED VISIBLE 500'\",\n",
       "       'TRUCK OR SEMI-TRAILER PROHIBITED', 'PARK/STAND ON BICYCLE PATH',\n",
       "       'WINDOWS MISSING OR CRACKED BEYOND 6',\n",
       "       'PARK OR STAND IN VIADUCT/UNDERPASS', 'CURB LOADING ZONE',\n",
       "       'OUTSIDE DIAGONAL MARKINGS', 'REAR VIEW MIRROR REQUIRED',\n",
       "       'PARK OR STAND ON CROSSWALK', 'PARK OR BLOCK ALLEY',\n",
       "       \"2 REAR TRAILER LAMPS REQ'D VISIBLE 500'\",\n",
       "       'SAFETY BELTS REQUIRED ON SCHOOL BUS', 'NO PARK IN PRIVATE LOT',\n",
       "       'SAFETY BELTS REQUIRED', 'IMPROPER DISPLAY OF CITY STICKER',\n",
       "       'PARKED/STANDING UNATTENDED W/MOTOR RUNNI',\n",
       "       'NO CITY STICKER VEHICLE OVER 16,000 LBS.', \"20'OF CROSSWALK\",\n",
       "       'PARK OR STAND ON CHA PROPERTY', 'NO OPERATOR SIGNAL',\n",
       "       'TRUCK,MOTOR HOME, BUS BUSINESS STREET', 'BLOCK ALLEY',\n",
       "       'FAIL TO DISPLAY TV NEWS PERMIT', 'INDUSTRIAL PERMIT PARKING',\n",
       "       'PARK OR STAND ON BRIDGE', 'PARK OR STAND WITHIN INTERSECTION',\n",
       "       'NO OR IMPROPER MUFFLER', 'PARK OUTSIDE METERED SPACE',\n",
       "       'HORN REQUIRED DURING OPERATION', 'UNSAFE CONDITION',\n",
       "       'NO PARK IN PUBLIC LOT',\n",
       "       \"PARK OR STAND ON OR WITHIN 10' RR TRACKS\",\n",
       "       'REAR PLATE REQUIRED MOTORCYCLE/TRAILER', 'DEPR./DIMMED LAMPS',\n",
       "       'FRONT PLATE REQUIRED FOR TRUCK TRACTORS',\n",
       "       \"MOTORCYCLE BRAKES REQ'D DURING OPERATION\",\n",
       "       'IMPROPER LAMPS NON-MOTOR VEHICLE',\n",
       "       'PROPER FRONT AND REAR BUMPERS REQUIRED',\n",
       "       \"VEH 6' OR HIGHER WITHIN 20' OF CROSSWALK\",\n",
       "       'PARK VEHICLE TO SELL MERCHANDISE',\n",
       "       'PARK MOTORCYCLE/SCOOTER PARK AT 90 DEGREE ANGLE',\n",
       "       'IMPROPER LAMP FOR PARKED VEH ON UNLIT ST', 'UNDER FIRE ESCAPE',\n",
       "       'SUSPENSION MODIFIED BEYOND 3',\n",
       "       'EXCESSIVE DIESEL POWERED VEHICLE ENGINE RUNNING',\n",
       "       'IMPROPER SIDE COWL/FENDER LAMPS', 'NO DISPLAY OF BACK-IN PERMIT',\n",
       "       'MORE THAN THREE OR IMPROPER AUX LAMP',\n",
       "       \"MOTORCYCLE HEAD LAMP VISIBLE 500'\"], dtype=object)"
      ]
     },
     "execution_count": 14,
     "metadata": {},
     "output_type": "execute_result"
    }
   ],
   "source": [
    "viols = df['violation_description'].unique()\n",
    "viols"
   ]
  },
  {
   "cell_type": "code",
   "execution_count": 15,
   "metadata": {},
   "outputs": [
    {
     "data": {
      "text/plain": [
       "88"
      ]
     },
     "execution_count": 15,
     "metadata": {},
     "output_type": "execute_result"
    }
   ],
   "source": [
    "len(viols)"
   ]
  },
  {
   "cell_type": "code",
   "execution_count": 16,
   "metadata": {},
   "outputs": [
    {
     "data": {
      "text/plain": [
       "0.007510716149803279"
      ]
     },
     "execution_count": 16,
     "metadata": {},
     "output_type": "execute_result"
    }
   ],
   "source": [
    "(2970733-2926441)/(2970733+2926441)"
   ]
  },
  {
   "cell_type": "code",
   "execution_count": 17,
   "metadata": {},
   "outputs": [
    {
     "data": {
      "text/plain": [
       "4.943840847727189"
      ]
     },
     "execution_count": 17,
     "metadata": {},
     "output_type": "execute_result"
    }
   ],
   "source": [
    "(3242342-34343)/(3434+645454)"
   ]
  },
  {
   "cell_type": "code",
   "execution_count": 18,
   "metadata": {},
   "outputs": [
    {
     "ename": "NameError",
     "evalue": "name 'tickets' is not defined",
     "output_type": "error",
     "traceback": [
      "\u001b[0;31m---------------------------------------------------------------------------\u001b[0m",
      "\u001b[0;31mNameError\u001b[0m                                 Traceback (most recent call last)",
      "\u001b[0;32m<ipython-input-18-ce0e0b9780d5>\u001b[0m in \u001b[0;36m<module>\u001b[0;34m()\u001b[0m\n\u001b[0;32m----> 1\u001b[0;31m \u001b[0mtickets\u001b[0m\u001b[0;34m.\u001b[0m\u001b[0minfo\u001b[0m\u001b[0;34m(\u001b[0m\u001b[0;34m)\u001b[0m\u001b[0;34m\u001b[0m\u001b[0m\n\u001b[0m",
      "\u001b[0;31mNameError\u001b[0m: name 'tickets' is not defined"
     ]
    }
   ],
   "source": [
    "tickets.info()"
   ]
  },
  {
   "cell_type": "code",
   "execution_count": null,
   "metadata": {},
   "outputs": [],
   "source": []
  },
  {
   "cell_type": "code",
   "execution_count": null,
   "metadata": {},
   "outputs": [],
   "source": []
  }
 ],
 "metadata": {
  "kernelspec": {
   "display_name": "Python 3",
   "language": "python",
   "name": "python3"
  },
  "language_info": {
   "codemirror_mode": {
    "name": "ipython",
    "version": 3
   },
   "file_extension": ".py",
   "mimetype": "text/x-python",
   "name": "python",
   "nbconvert_exporter": "python",
   "pygments_lexer": "ipython3",
   "version": "3.7.0"
  }
 },
 "nbformat": 4,
 "nbformat_minor": 2
}
